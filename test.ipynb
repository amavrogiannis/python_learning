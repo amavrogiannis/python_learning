{
 "cells": [
  {
   "cell_type": "code",
   "execution_count": 43,
   "metadata": {},
   "outputs": [
    {
     "name": "stdout",
     "output_type": "stream",
     "text": [
      "Current balance: 5\n",
      "Your new balance is 15.0\n",
      "Your new balance is 45.6\n",
      "15.0\n",
      "45.6\n"
     ]
    }
   ],
   "source": [
    "history = []\n",
    "class Account:\n",
    "\n",
    "\n",
    "    def __init__(self, balance=0):\n",
    "        self.account_balance = balance\n",
    "        print(f\"Current balance: {self.account_balance}\")\n",
    "    \n",
    "    def deposit(self, cash=0):\n",
    "        total = float(cash)\n",
    "        self.account_balance += total\n",
    "        print(f\"Your new balance is {self.account_balance}\")\n",
    "        history.append(self.account_balance)\n",
    "\n",
    "\n",
    "bank = Account(5)\n",
    "bank.deposit(10)\n",
    "bank.deposit(30.60)\n",
    "for i in history:\n",
    "    print(float(i))\n",
    "\n",
    "\n",
    "\n"
   ]
  },
  {
   "cell_type": "code",
   "execution_count": 12,
   "metadata": {},
   "outputs": [
    {
     "name": "stdout",
     "output_type": "stream",
     "text": [
      "['D 40.0']\n"
     ]
    }
   ],
   "source": [
    "new_list = []\n",
    "\n",
    "num = 40.00\n",
    "\n",
    "this = f'D {num}'\n",
    "new_list.append(this)\n",
    "print(new_list)"
   ]
  }
 ],
 "metadata": {
  "kernelspec": {
   "display_name": "Python 3",
   "language": "python",
   "name": "python3"
  },
  "language_info": {
   "codemirror_mode": {
    "name": "ipython",
    "version": 3
   },
   "file_extension": ".py",
   "mimetype": "text/x-python",
   "name": "python",
   "nbconvert_exporter": "python",
   "pygments_lexer": "ipython3",
   "version": "3.11.5"
  },
  "orig_nbformat": 4
 },
 "nbformat": 4,
 "nbformat_minor": 2
}
