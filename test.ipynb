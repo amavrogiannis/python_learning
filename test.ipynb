{
 "cells": [
  {
   "cell_type": "code",
   "execution_count": 43,
   "metadata": {},
   "outputs": [
    {
     "name": "stdout",
     "output_type": "stream",
     "text": [
      "Current balance: 5\n",
      "Your new balance is 15.0\n",
      "Your new balance is 45.6\n",
      "15.0\n",
      "45.6\n"
     ]
    }
   ],
   "source": [
    "history = []\n",
    "class Account:\n",
    "\n",
    "\n",
    "    def __init__(self, balance=0):\n",
    "        self.account_balance = balance\n",
    "        print(f\"Current balance: {self.account_balance}\")\n",
    "    \n",
    "    def deposit(self, cash=0):\n",
    "        total = float(cash)\n",
    "        self.account_balance += total\n",
    "        print(f\"Your new balance is {self.account_balance}\")\n",
    "        history.append(self.account_balance)\n",
    "\n",
    "\n",
    "bank = Account(5)\n",
    "bank.deposit(10)\n",
    "bank.deposit(30.60)\n",
    "for i in history:\n",
    "    print(float(i))\n",
    "\n",
    "\n",
    "\n"
   ]
  },
  {
   "cell_type": "code",
   "execution_count": 12,
   "metadata": {},
   "outputs": [
    {
     "name": "stdout",
     "output_type": "stream",
     "text": [
      "['D 40.0']\n"
     ]
    }
   ],
   "source": [
    "new_list = []\n",
    "\n",
    "num = 40.00\n",
    "\n",
    "this = f'D {num}'\n",
    "new_list.append(this)\n",
    "print(new_list)"
   ]
  },
  {
   "cell_type": "code",
   "execution_count": 17,
   "metadata": {},
   "outputs": [
    {
     "ename": "AttributeError",
     "evalue": "'function' object has no attribute 'as_view'",
     "output_type": "error",
     "traceback": [
      "\u001b[0;31m---------------------------------------------------------------------------\u001b[0m",
      "\u001b[0;31mAttributeError\u001b[0m                            Traceback (most recent call last)",
      "\u001b[1;32m/Users/amavrogiannis/Dev_Docs/Git/python_learning/test.ipynb Cell 3\u001b[0m line \u001b[0;36m1\n\u001b[1;32m     <a href='vscode-notebook-cell:/Users/amavrogiannis/Dev_Docs/Git/python_learning/test.ipynb#W4sZmlsZQ%3D%3D?line=9'>10</a>\u001b[0m \u001b[39mdef\u001b[39;00m \u001b[39mthis_second\u001b[39m(use_this: \u001b[39mstr\u001b[39m):\n\u001b[1;32m     <a href='vscode-notebook-cell:/Users/amavrogiannis/Dev_Docs/Git/python_learning/test.ipynb#W4sZmlsZQ%3D%3D?line=10'>11</a>\u001b[0m     \u001b[39mprint\u001b[39m(\u001b[39mf\u001b[39m\u001b[39m'\u001b[39m\u001b[39mI am using \u001b[39m\u001b[39m{\u001b[39;00muse_this\u001b[39m}\u001b[39;00m\u001b[39m'\u001b[39m)\n\u001b[0;32m---> <a href='vscode-notebook-cell:/Users/amavrogiannis/Dev_Docs/Git/python_learning/test.ipynb#W4sZmlsZQ%3D%3D?line=12'>13</a>\u001b[0m api\u001b[39m.\u001b[39;49madd_resource(this_basic, \u001b[39m\"\u001b[39;49m\u001b[39m/hello\u001b[39;49m\u001b[39m\"\u001b[39;49m)\n\u001b[1;32m     <a href='vscode-notebook-cell:/Users/amavrogiannis/Dev_Docs/Git/python_learning/test.ipynb#W4sZmlsZQ%3D%3D?line=14'>15</a>\u001b[0m \u001b[39mif\u001b[39;00m \u001b[39m__name__\u001b[39m \u001b[39m==\u001b[39m \u001b[39m\"\u001b[39m\u001b[39m__main__\u001b[39m\u001b[39m\"\u001b[39m:\n\u001b[1;32m     <a href='vscode-notebook-cell:/Users/amavrogiannis/Dev_Docs/Git/python_learning/test.ipynb#W4sZmlsZQ%3D%3D?line=15'>16</a>\u001b[0m     app\u001b[39m.\u001b[39mrun(debug\u001b[39m=\u001b[39m\u001b[39mTrue\u001b[39;00m)\n",
      "File \u001b[0;32m/opt/homebrew/lib/python3.11/site-packages/flask_restful/__init__.py:413\u001b[0m, in \u001b[0;36mApi.add_resource\u001b[0;34m(self, resource, *urls, **kwargs)\u001b[0m\n\u001b[1;32m    380\u001b[0m \u001b[39m\u001b[39m\u001b[39m\"\"\"Adds a resource to the api.\u001b[39;00m\n\u001b[1;32m    381\u001b[0m \n\u001b[1;32m    382\u001b[0m \u001b[39m:param resource: the class name of your resource\u001b[39;00m\n\u001b[0;32m   (...)\u001b[0m\n\u001b[1;32m    410\u001b[0m \n\u001b[1;32m    411\u001b[0m \u001b[39m\"\"\"\u001b[39;00m\n\u001b[1;32m    412\u001b[0m \u001b[39mif\u001b[39;00m \u001b[39mself\u001b[39m\u001b[39m.\u001b[39mapp \u001b[39mis\u001b[39;00m \u001b[39mnot\u001b[39;00m \u001b[39mNone\u001b[39;00m:\n\u001b[0;32m--> 413\u001b[0m     \u001b[39mself\u001b[39;49m\u001b[39m.\u001b[39;49m_register_view(\u001b[39mself\u001b[39;49m\u001b[39m.\u001b[39;49mapp, resource, \u001b[39m*\u001b[39;49murls, \u001b[39m*\u001b[39;49m\u001b[39m*\u001b[39;49mkwargs)\n\u001b[1;32m    414\u001b[0m \u001b[39melse\u001b[39;00m:\n\u001b[1;32m    415\u001b[0m     \u001b[39mself\u001b[39m\u001b[39m.\u001b[39mresources\u001b[39m.\u001b[39mappend((resource, urls, kwargs))\n",
      "File \u001b[0;32m/opt/homebrew/lib/python3.11/site-packages/flask_restful/__init__.py:453\u001b[0m, in \u001b[0;36mApi._register_view\u001b[0;34m(self, app, resource, *urls, **kwargs)\u001b[0m\n\u001b[1;32m    451\u001b[0m resource\u001b[39m.\u001b[39mmediatypes \u001b[39m=\u001b[39m \u001b[39mself\u001b[39m\u001b[39m.\u001b[39mmediatypes_method()  \u001b[39m# Hacky\u001b[39;00m\n\u001b[1;32m    452\u001b[0m resource\u001b[39m.\u001b[39mendpoint \u001b[39m=\u001b[39m endpoint\n\u001b[0;32m--> 453\u001b[0m resource_func \u001b[39m=\u001b[39m \u001b[39mself\u001b[39m\u001b[39m.\u001b[39moutput(resource\u001b[39m.\u001b[39;49mas_view(endpoint, \u001b[39m*\u001b[39mresource_class_args,\n\u001b[1;32m    454\u001b[0m     \u001b[39m*\u001b[39m\u001b[39m*\u001b[39mresource_class_kwargs))\n\u001b[1;32m    456\u001b[0m \u001b[39mfor\u001b[39;00m decorator \u001b[39min\u001b[39;00m \u001b[39mself\u001b[39m\u001b[39m.\u001b[39mdecorators:\n\u001b[1;32m    457\u001b[0m     resource_func \u001b[39m=\u001b[39m decorator(resource_func)\n",
      "\u001b[0;31mAttributeError\u001b[0m: 'function' object has no attribute 'as_view'"
     ]
    }
   ],
   "source": [
    "from flask import Flask\n",
    "from flask_restful import Api, Resource\n",
    "\n",
    "app = Flask(__name__)\n",
    "api = Api(app)\n",
    "\n",
    "def this_basic(Resource):\n",
    "    return {'data': 'Hello World'}\n",
    "\n",
    "def this_second(use_this: str):\n",
    "    print(f'I am using {use_this}')\n",
    "\n",
    "api.add_resource(this_basic, \"/hello\")\n",
    "\n",
    "if __name__ == \"__main__\":\n",
    "    app.run(debug=True)\n"
   ]
  }
 ],
 "metadata": {
  "kernelspec": {
   "display_name": "Python 3",
   "language": "python",
   "name": "python3"
  },
  "language_info": {
   "codemirror_mode": {
    "name": "ipython",
    "version": 3
   },
   "file_extension": ".py",
   "mimetype": "text/x-python",
   "name": "python",
   "nbconvert_exporter": "python",
   "pygments_lexer": "ipython3",
   "version": "3.11.5"
  },
  "orig_nbformat": 4
 },
 "nbformat": 4,
 "nbformat_minor": 2
}
