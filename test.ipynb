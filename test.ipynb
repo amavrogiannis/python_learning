{
 "cells": [
  {
   "cell_type": "code",
   "execution_count": 43,
   "metadata": {},
   "outputs": [
    {
     "name": "stdout",
     "output_type": "stream",
     "text": [
      "Current balance: 5\n",
      "Your new balance is 15.0\n",
      "Your new balance is 45.6\n",
      "15.0\n",
      "45.6\n"
     ]
    }
   ],
   "source": [
    "history = []\n",
    "class Account:\n",
    "\n",
    "\n",
    "    def __init__(self, balance=0):\n",
    "        self.account_balance = balance\n",
    "        print(f\"Current balance: {self.account_balance}\")\n",
    "    \n",
    "    def deposit(self, cash=0):\n",
    "        total = float(cash)\n",
    "        self.account_balance += total\n",
    "        print(f\"Your new balance is {self.account_balance}\")\n",
    "        history.append(self.account_balance)\n",
    "\n",
    "\n",
    "bank = Account(5)\n",
    "bank.deposit(10)\n",
    "bank.deposit(30.60)\n",
    "for i in history:\n",
    "    print(float(i))\n",
    "\n",
    "\n",
    "\n"
   ]
  },
  {
   "cell_type": "code",
   "execution_count": 12,
   "metadata": {},
   "outputs": [
    {
     "name": "stdout",
     "output_type": "stream",
     "text": [
      "['D 40.0']\n"
     ]
    }
   ],
   "source": [
    "new_list = []\n",
    "\n",
    "num = 40.00\n",
    "\n",
    "this = f'D {num}'\n",
    "new_list.append(this)\n",
    "print(new_list)"
   ]
  },
  {
   "cell_type": "code",
   "execution_count": 30,
   "metadata": {},
   "outputs": [
    {
     "name": "stdout",
     "output_type": "stream",
     "text": [
      "{'account_id': 1004, 'balance': 935, 'transactions': [{'time': '06/10/2023 14:05:02', 'amount': 150, 'balance': 650}, {'time': '06/10/2023 14:05:08', 'amount': -15, 'balance': 635}, {'time': '10/21/2023 13:07:55', 'amount': 150, 'balance': 785}, {'time': '10/21/2023 13:08:19', 'amount': 150, 'balance': 935}]}\n"
     ]
    }
   ],
   "source": [
    "import json\n",
    "import datetime\n",
    "\n",
    "current_time = datetime.datetime.now().strftime(\"%m/%d/%Y %H:%M:%S\")\n",
    "\n",
    "# Dev input\n",
    "file = \"accounts.json\"\n",
    "\n",
    "# account_user = 1004\n",
    "# amount_1 = 150\n",
    "\n",
    "def open_file(file):\n",
    "    with open(file, 'r') as f:\n",
    "        data = json.load(f)\n",
    "    return data\n",
    "\n",
    "def save_changes(file, data):\n",
    "    with open(file, 'w') as f:\n",
    "        out = json.dump(data,f, indent=4)\n",
    "    return out\n",
    "\n",
    "def deposit_service(account_no, amount):\n",
    "    data = open_file(file)\n",
    "\n",
    "    for account in data:\n",
    "        if account['account_id'] == account_no:\n",
    "            account['balance'] += amount\n",
    "            transaction = {\n",
    "                'time': current_time,\n",
    "                'amount':  amount,\n",
    "                'balance': account['balance']\n",
    "            }\n",
    "\n",
    "            account['transactions'].append(transaction)\n",
    "            break\n",
    "    \n",
    "    save_changes(file, data)\n",
    "\n",
    "def view_account(account_no):\n",
    "    this = open_file(file)\n",
    "\n",
    "    for account in this:\n",
    "        if account['account_id'] == account_user:\n",
    "            return account\n",
    "\n",
    "deposit_service(1009, 500)\n",
    "\n",
    "print(view_account(1009))\n"
   ]
  }
 ],
 "metadata": {
  "kernelspec": {
   "display_name": "Python 3",
   "language": "python",
   "name": "python3"
  },
  "language_info": {
   "codemirror_mode": {
    "name": "ipython",
    "version": 3
   },
   "file_extension": ".py",
   "mimetype": "text/x-python",
   "name": "python",
   "nbconvert_exporter": "python",
   "pygments_lexer": "ipython3",
   "version": "3.11.5"
  },
  "orig_nbformat": 4
 },
 "nbformat": 4,
 "nbformat_minor": 2
}
