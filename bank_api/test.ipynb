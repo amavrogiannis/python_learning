{
 "cells": [
  {
   "cell_type": "code",
   "execution_count": 34,
   "metadata": {},
   "outputs": [
    {
     "name": "stdout",
     "output_type": "stream",
     "text": [
      "<class 'list'>\n",
      "{'account_id': 1001, 'balance': 2800, 'transactions': [{'time': '06/10/2023 11:08:30', 'amount': 100, 'balance': 2000}, {'time': '06/10/2023 11:08:41', 'amount': 100, 'balance': 2100}, {'time': '06/10/2023 11:08:42', 'amount': 100, 'balance': 2200}, {'time': '06/10/2023 11:08:42', 'amount': 100, 'balance': 2300}, {'time': '06/10/2023 11:08:42', 'amount': 100, 'balance': 2400}, {'time': '06/10/2023 14:01:42', 'amount': 400, 'balance': 2800}]}\n"
     ]
    }
   ],
   "source": [
    "import json\n",
    "\n",
    "this = \"accounts.json\"\n",
    "\n",
    "with open(this, 'r') as file:\n",
    "    data = json.load(file)\n",
    "\n",
    "print(type(data))\n",
    "\n",
    "print(dict(data[0]))\n",
    "\n",
    "\n",
    "# print(data)"
   ]
  },
  {
   "cell_type": "code",
   "execution_count": 3,
   "metadata": {},
   "outputs": [
    {
     "data": {
      "text/plain": [
       "1001"
      ]
     },
     "execution_count": 3,
     "metadata": {},
     "output_type": "execute_result"
    }
   ],
   "source": [
    "import json\n",
    "\n",
    "this = \"accounts.json\"\n",
    "\n",
    "data = []\n",
    "\n",
    "with open(this, 'r') as file:\n",
    "    data = json.load(file)\n",
    "\n",
    "# for key in data.items():\n",
    "#     print(key)\n",
    "need = [key[\"account_id\"] for key in data]\n",
    "# for i in need:\n",
    "#     print(i)\n",
    "\n",
    "need[0]\n"
   ]
  },
  {
   "cell_type": "code",
   "execution_count": 53,
   "metadata": {},
   "outputs": [],
   "source": [
    "import json\n",
    "\n",
    "file = 'accounts.json'\n",
    "account_no = 1002\n",
    "\n",
    "account_summary = []\n",
    "\n",
    "with open(file) as bank_file: \n",
    "    transactions_data = json.load(bank_file)\n",
    "\n",
    "\n",
    "for items in transactions_data:\n",
    "    if 'account_id' in items and items['account_id'] == account_no:\n",
    "        results = json.dumps(items, indent=4)\n",
    "\n",
    "print(results)"
   ]
  }
 ],
 "metadata": {
  "kernelspec": {
   "display_name": "Python 3",
   "language": "python",
   "name": "python3"
  },
  "language_info": {
   "codemirror_mode": {
    "name": "ipython",
    "version": 3
   },
   "file_extension": ".py",
   "mimetype": "text/x-python",
   "name": "python",
   "nbconvert_exporter": "python",
   "pygments_lexer": "ipython3",
   "version": "3.11.5"
  },
  "orig_nbformat": 4
 },
 "nbformat": 4,
 "nbformat_minor": 2
}
