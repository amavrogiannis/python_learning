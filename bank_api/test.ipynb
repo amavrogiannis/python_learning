{
 "cells": [
  {
   "cell_type": "code",
   "execution_count": 34,
   "metadata": {},
   "outputs": [
    {
     "name": "stdout",
     "output_type": "stream",
     "text": [
      "<class 'list'>\n",
      "{'account_id': 1001, 'balance': 2800, 'transactions': [{'time': '06/10/2023 11:08:30', 'amount': 100, 'balance': 2000}, {'time': '06/10/2023 11:08:41', 'amount': 100, 'balance': 2100}, {'time': '06/10/2023 11:08:42', 'amount': 100, 'balance': 2200}, {'time': '06/10/2023 11:08:42', 'amount': 100, 'balance': 2300}, {'time': '06/10/2023 11:08:42', 'amount': 100, 'balance': 2400}, {'time': '06/10/2023 14:01:42', 'amount': 400, 'balance': 2800}]}\n"
     ]
    }
   ],
   "source": [
    "import json\n",
    "\n",
    "this = \"accounts.json\"\n",
    "\n",
    "with open(this, 'r') as file:\n",
    "    data = json.load(file)\n",
    "\n",
    "print(type(data))\n",
    "\n",
    "print(dict(data[0]))\n",
    "\n",
    "\n",
    "# print(data)"
   ]
  },
  {
   "cell_type": "code",
   "execution_count": 35,
   "metadata": {},
   "outputs": [
    {
     "name": "stdout",
     "output_type": "stream",
     "text": [
      "<class 'list'>\n",
      "{'account_id': 1002, 'balance': 1650, 'transactions': [{'time': '06/10/2023 14:02:01', 'amount': 250, 'balance': 1750}, {'time': '06/10/2023 14:03:26', 'amount': -50, 'balance': 1700}, {'time': '06/10/2023 14:03:30', 'amount': -50, 'balance': 1650}]}\n"
     ]
    }
   ],
   "source": [
    "import json\n",
    "\n",
    "this = \"accounts.json\"\n",
    "\n",
    "with open(this, 'r') as file:\n",
    "    data = json.load(file)\n",
    "\n",
    "print(type(data))\n",
    "\n",
    "print(dict(data[1]))"
   ]
  },
  {
   "cell_type": "code",
   "execution_count": 69,
   "metadata": {},
   "outputs": [
    {
     "name": "stdout",
     "output_type": "stream",
     "text": [
      "1001\n",
      "1002\n",
      "1003\n",
      "1004\n",
      "1005\n",
      "1006\n",
      "1007\n",
      "1008\n",
      "1009\n"
     ]
    }
   ],
   "source": [
    "import json\n",
    "\n",
    "this = \"accounts.json\"\n",
    "\n",
    "data = []\n",
    "\n",
    "with open(this, 'r') as file:\n",
    "    data = json.load(file)\n",
    "\n",
    "# for key in data.items():\n",
    "#     print(key)\n",
    "need = [key[\"account_id\"] for key in data]\n",
    "for i in need:\n",
    "    print(i)\n"
   ]
  }
 ],
 "metadata": {
  "kernelspec": {
   "display_name": "Python 3",
   "language": "python",
   "name": "python3"
  },
  "language_info": {
   "codemirror_mode": {
    "name": "ipython",
    "version": 3
   },
   "file_extension": ".py",
   "mimetype": "text/x-python",
   "name": "python",
   "nbconvert_exporter": "python",
   "pygments_lexer": "ipython3",
   "version": "3.11.5"
  },
  "orig_nbformat": 4
 },
 "nbformat": 4,
 "nbformat_minor": 2
}
